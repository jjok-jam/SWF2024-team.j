{
 "cells": [
  {
   "cell_type": "code",
   "execution_count": 1,
   "id": "42075ec0-b9ca-4462-94c0-5389c67e3276",
   "metadata": {},
   "outputs": [
    {
     "name": "stdout",
     "output_type": "stream",
     "text": [
      "Collecting py3Dmol\n",
      "  Downloading py3Dmol-2.3.0-py2.py3-none-any.whl.metadata (1.9 kB)\n",
      "Downloading py3Dmol-2.3.0-py2.py3-none-any.whl (7.0 kB)\n",
      "Installing collected packages: py3Dmol\n",
      "Successfully installed py3Dmol-2.3.0\n"
     ]
    }
   ],
   "source": [
    "!pip install py3Dmol"
   ]
  },
  {
   "cell_type": "code",
   "execution_count": 5,
   "id": "63caa370-e74c-453d-89a3-57b22dcc88e0",
   "metadata": {},
   "outputs": [
    {
     "data": {
      "application/3dmoljs_load.v0": "<div id=\"3dmolviewer_1724238314123869\"  style=\"position: relative; width: 640px; height: 480px;\">\n        <p id=\"3dmolwarning_1724238314123869\" style=\"background-color:#ffcccc;color:black\">3Dmol.js failed to load for some reason.  Please check your browser console for error messages.<br></p>\n        </div>\n<script>\n\nvar loadScriptAsync = function(uri){\n  return new Promise((resolve, reject) => {\n    //this is to ignore the existence of requirejs amd\n    var savedexports, savedmodule;\n    if (typeof exports !== 'undefined') savedexports = exports;\n    else exports = {}\n    if (typeof module !== 'undefined') savedmodule = module;\n    else module = {}\n\n    var tag = document.createElement('script');\n    tag.src = uri;\n    tag.async = true;\n    tag.onload = () => {\n        exports = savedexports;\n        module = savedmodule;\n        resolve();\n    };\n  var firstScriptTag = document.getElementsByTagName('script')[0];\n  firstScriptTag.parentNode.insertBefore(tag, firstScriptTag);\n});\n};\n\nif(typeof $3Dmolpromise === 'undefined') {\n$3Dmolpromise = null;\n  $3Dmolpromise = loadScriptAsync('https://cdnjs.cloudflare.com/ajax/libs/3Dmol/2.3.0/3Dmol-min.js');\n}\n\nvar viewer_1724238314123869 = null;\nvar warn = document.getElementById(\"3dmolwarning_1724238314123869\");\nif(warn) {\n    warn.parentNode.removeChild(warn);\n}\n$3Dmolpromise.then(function() {\nviewer_1724238314123869 = $3Dmol.createViewer(document.getElementById(\"3dmolviewer_1724238314123869\"),{backgroundColor:\"white\"});\n$3Dmol.download(\"pdb:1DT7\", viewer_1724238314123869, {}, function() {\nviewer_1724238314123869.zoomTo();\nviewer_1724238314123869.render();\n})\n});\n</script>",
      "text/html": [
       "<div id=\"3dmolviewer_1724238314123869\"  style=\"position: relative; width: 640px; height: 480px;\">\n",
       "        <p id=\"3dmolwarning_1724238314123869\" style=\"background-color:#ffcccc;color:black\">3Dmol.js failed to load for some reason.  Please check your browser console for error messages.<br></p>\n",
       "        </div>\n",
       "<script>\n",
       "\n",
       "var loadScriptAsync = function(uri){\n",
       "  return new Promise((resolve, reject) => {\n",
       "    //this is to ignore the existence of requirejs amd\n",
       "    var savedexports, savedmodule;\n",
       "    if (typeof exports !== 'undefined') savedexports = exports;\n",
       "    else exports = {}\n",
       "    if (typeof module !== 'undefined') savedmodule = module;\n",
       "    else module = {}\n",
       "\n",
       "    var tag = document.createElement('script');\n",
       "    tag.src = uri;\n",
       "    tag.async = true;\n",
       "    tag.onload = () => {\n",
       "        exports = savedexports;\n",
       "        module = savedmodule;\n",
       "        resolve();\n",
       "    };\n",
       "  var firstScriptTag = document.getElementsByTagName('script')[0];\n",
       "  firstScriptTag.parentNode.insertBefore(tag, firstScriptTag);\n",
       "});\n",
       "};\n",
       "\n",
       "if(typeof $3Dmolpromise === 'undefined') {\n",
       "$3Dmolpromise = null;\n",
       "  $3Dmolpromise = loadScriptAsync('https://cdnjs.cloudflare.com/ajax/libs/3Dmol/2.3.0/3Dmol-min.js');\n",
       "}\n",
       "\n",
       "var viewer_1724238314123869 = null;\n",
       "var warn = document.getElementById(\"3dmolwarning_1724238314123869\");\n",
       "if(warn) {\n",
       "    warn.parentNode.removeChild(warn);\n",
       "}\n",
       "$3Dmolpromise.then(function() {\n",
       "viewer_1724238314123869 = $3Dmol.createViewer(document.getElementById(\"3dmolviewer_1724238314123869\"),{backgroundColor:\"white\"});\n",
       "$3Dmol.download(\"pdb:1DT7\", viewer_1724238314123869, {}, function() {\n",
       "viewer_1724238314123869.zoomTo();\n",
       "viewer_1724238314123869.render();\n",
       "})\n",
       "});\n",
       "</script>"
      ]
     },
     "metadata": {},
     "output_type": "display_data"
    }
   ],
   "source": [
    "import py3Dmol\n",
    "viewer = py3Dmol.view(query='pdb:1DT7')\n",
    "viewer.show()"
   ]
  },
  {
   "cell_type": "code",
   "execution_count": 3,
   "id": "3cb8de2e-c822-46e1-98af-994bc13c1292",
   "metadata": {},
   "outputs": [
    {
     "data": {
      "application/3dmoljs_load.v0": "<div id=\"3dmolviewer_1724237983373961\"  style=\"position: relative; width: 640px; height: 480px;\">\n        <p id=\"3dmolwarning_1724237983373961\" style=\"background-color:#ffcccc;color:black\">3Dmol.js failed to load for some reason.  Please check your browser console for error messages.<br></p>\n        </div>\n<script>\n\nvar loadScriptAsync = function(uri){\n  return new Promise((resolve, reject) => {\n    //this is to ignore the existence of requirejs amd\n    var savedexports, savedmodule;\n    if (typeof exports !== 'undefined') savedexports = exports;\n    else exports = {}\n    if (typeof module !== 'undefined') savedmodule = module;\n    else module = {}\n\n    var tag = document.createElement('script');\n    tag.src = uri;\n    tag.async = true;\n    tag.onload = () => {\n        exports = savedexports;\n        module = savedmodule;\n        resolve();\n    };\n  var firstScriptTag = document.getElementsByTagName('script')[0];\n  firstScriptTag.parentNode.insertBefore(tag, firstScriptTag);\n});\n};\n\nif(typeof $3Dmolpromise === 'undefined') {\n$3Dmolpromise = null;\n  $3Dmolpromise = loadScriptAsync('https://cdnjs.cloudflare.com/ajax/libs/3Dmol/2.3.0/3Dmol-min.js');\n}\n\nvar viewer_1724237983373961 = null;\nvar warn = document.getElementById(\"3dmolwarning_1724237983373961\");\nif(warn) {\n    warn.parentNode.removeChild(warn);\n}\n$3Dmolpromise.then(function() {\nviewer_1724237983373961 = $3Dmol.createViewer(document.getElementById(\"3dmolviewer_1724237983373961\"),{backgroundColor:\"white\"});\n$3Dmol.download(\"pdb:5WOG\", viewer_1724237983373961, {}, function() {\nviewer_1724237983373961.zoomTo();\n\tviewer_1724237983373961.setStyle({\"chain\": \"A\"},{\"cartoon\": {\"color\": \"orange\"}});\nviewer_1724237983373961.render();\n})\n});\n</script>",
      "text/html": [
       "<div id=\"3dmolviewer_1724237983373961\"  style=\"position: relative; width: 640px; height: 480px;\">\n",
       "        <p id=\"3dmolwarning_1724237983373961\" style=\"background-color:#ffcccc;color:black\">3Dmol.js failed to load for some reason.  Please check your browser console for error messages.<br></p>\n",
       "        </div>\n",
       "<script>\n",
       "\n",
       "var loadScriptAsync = function(uri){\n",
       "  return new Promise((resolve, reject) => {\n",
       "    //this is to ignore the existence of requirejs amd\n",
       "    var savedexports, savedmodule;\n",
       "    if (typeof exports !== 'undefined') savedexports = exports;\n",
       "    else exports = {}\n",
       "    if (typeof module !== 'undefined') savedmodule = module;\n",
       "    else module = {}\n",
       "\n",
       "    var tag = document.createElement('script');\n",
       "    tag.src = uri;\n",
       "    tag.async = true;\n",
       "    tag.onload = () => {\n",
       "        exports = savedexports;\n",
       "        module = savedmodule;\n",
       "        resolve();\n",
       "    };\n",
       "  var firstScriptTag = document.getElementsByTagName('script')[0];\n",
       "  firstScriptTag.parentNode.insertBefore(tag, firstScriptTag);\n",
       "});\n",
       "};\n",
       "\n",
       "if(typeof $3Dmolpromise === 'undefined') {\n",
       "$3Dmolpromise = null;\n",
       "  $3Dmolpromise = loadScriptAsync('https://cdnjs.cloudflare.com/ajax/libs/3Dmol/2.3.0/3Dmol-min.js');\n",
       "}\n",
       "\n",
       "var viewer_1724237983373961 = null;\n",
       "var warn = document.getElementById(\"3dmolwarning_1724237983373961\");\n",
       "if(warn) {\n",
       "    warn.parentNode.removeChild(warn);\n",
       "}\n",
       "$3Dmolpromise.then(function() {\n",
       "viewer_1724237983373961 = $3Dmol.createViewer(document.getElementById(\"3dmolviewer_1724237983373961\"),{backgroundColor:\"white\"});\n",
       "$3Dmol.download(\"pdb:5WOG\", viewer_1724237983373961, {}, function() {\n",
       "viewer_1724237983373961.zoomTo();\n",
       "\tviewer_1724237983373961.setStyle({\"chain\": \"A\"},{\"cartoon\": {\"color\": \"orange\"}});\n",
       "viewer_1724237983373961.render();\n",
       "})\n",
       "});\n",
       "</script>"
      ]
     },
     "metadata": {},
     "output_type": "display_data"
    }
   ],
   "source": [
    "viewer.setStyle({'chain':'A'},{'cartoon': {'color': 'orange'}})\n",
    "viewer.show()"
   ]
  },
  {
   "cell_type": "code",
   "execution_count": null,
   "id": "276d207d-4df2-419d-842d-cc5e9437d49e",
   "metadata": {},
   "outputs": [],
   "source": []
  }
 ],
 "metadata": {
  "kernelspec": {
   "display_name": "Python 3 (ipykernel)",
   "language": "python",
   "name": "python3"
  },
  "language_info": {
   "codemirror_mode": {
    "name": "ipython",
    "version": 3
   },
   "file_extension": ".py",
   "mimetype": "text/x-python",
   "name": "python",
   "nbconvert_exporter": "python",
   "pygments_lexer": "ipython3",
   "version": "3.9.18"
  }
 },
 "nbformat": 4,
 "nbformat_minor": 5
}
